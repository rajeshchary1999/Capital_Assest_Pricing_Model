{
 "cells": [
  {
   "cell_type": "markdown",
   "id": "52464ce6",
   "metadata": {},
   "source": [
    "* CAPM stands for Capital Asset Pricing Model, which is a financial model used to estimate the expected return of an asset based on its risk and the expected market return. It assumes that the expected return of an asset is equal to the risk-free rate plus a premium proportional to the asset's beta (systematic risk) relative to the market. The CAPM is widely used in finance to estimate the cost of equity and to determine whether an asset is fairly priced given its risk."
   ]
  },
  {
   "cell_type": "code",
   "execution_count": 1,
   "id": "a3f11a36",
   "metadata": {},
   "outputs": [],
   "source": [
    "#import libraris\n",
    "import yfinance as yf\n",
    "import statsmodels.api as sm"
   ]
  },
  {
   "cell_type": "code",
   "execution_count": 2,
   "id": "a933ab74",
   "metadata": {},
   "outputs": [],
   "source": [
    "# Define the ticker symbol and get the stock data\n",
    "ticker = \"AMZN\"\n",
    "stock_data = yf.Ticker(ticker).history(start=\"2015-01-01\", end=\"2023-04-20\")"
   ]
  },
  {
   "cell_type": "code",
   "execution_count": 3,
   "id": "21f48742",
   "metadata": {},
   "outputs": [],
   "source": [
    "#Get the S&P 500 data as a proxy for the market return\n",
    "market_data = yf.Ticker(\"^GSPC\").history(start=\"2015-01-01\", end=\"2023-04-20\")"
   ]
  },
  {
   "cell_type": "code",
   "execution_count": 4,
   "id": "761d829d",
   "metadata": {},
   "outputs": [],
   "source": [
    "# Calculate daily returns\n",
    "stock_returns = stock_data['Close'].pct_change().dropna()\n",
    "market_returns = market_data['Close'].pct_change().dropna()"
   ]
  },
  {
   "cell_type": "code",
   "execution_count": 5,
   "id": "26ef24be",
   "metadata": {},
   "outputs": [],
   "source": [
    "# Run OLS regression\n",
    "X = sm.add_constant(market_returns)\n",
    "model = sm.OLS(stock_returns, X).fit()\n"
   ]
  },
  {
   "cell_type": "markdown",
   "id": "ada53a70",
   "metadata": {},
   "source": [
    "* add_constant() method from statsmodels to add a column of 1s to the S&P 500 returns, and run an OLS regression using the OLS() method from statsmodels."
   ]
  },
  {
   "cell_type": "code",
   "execution_count": 6,
   "id": "5749cf6b",
   "metadata": {},
   "outputs": [
    {
     "name": "stdout",
     "output_type": "stream",
     "text": [
      "                            OLS Regression Results                            \n",
      "==============================================================================\n",
      "Dep. Variable:                  Close   R-squared:                       0.393\n",
      "Model:                            OLS   Adj. R-squared:                  0.393\n",
      "Method:                 Least Squares   F-statistic:                     1351.\n",
      "Date:                Mon, 24 Apr 2023   Prob (F-statistic):          1.79e-228\n",
      "Time:                        16:25:02   Log-Likelihood:                 5615.2\n",
      "No. Observations:                2087   AIC:                        -1.123e+04\n",
      "Df Residuals:                    2085   BIC:                        -1.122e+04\n",
      "Df Model:                           1                                         \n",
      "Covariance Type:            nonrobust                                         \n",
      "==============================================================================\n",
      "                 coef    std err          t      P>|t|      [0.025      0.975]\n",
      "------------------------------------------------------------------------------\n",
      "const          0.0007      0.000      1.896      0.058   -2.34e-05       0.001\n",
      "Close          1.1187      0.030     36.759      0.000       1.059       1.178\n",
      "==============================================================================\n",
      "Omnibus:                      805.717   Durbin-Watson:                   1.962\n",
      "Prob(Omnibus):                  0.000   Jarque-Bera (JB):            19650.646\n",
      "Skew:                           1.256   Prob(JB):                         0.00\n",
      "Kurtosis:                      17.821   Cond. No.                         84.7\n",
      "==============================================================================\n",
      "\n",
      "Notes:\n",
      "[1] Standard Errors assume that the covariance matrix of the errors is correctly specified.\n"
     ]
    }
   ],
   "source": [
    "# Print results\n",
    "print(model.summary())"
   ]
  },
  {
   "cell_type": "markdown",
   "id": "e2303d0b",
   "metadata": {},
   "source": [
    "# CAPM FORMULA\n",
    "E[r_{GOOGL}] = r_f + \\beta_{GOOGL}(E[r_m] - r_f)"
   ]
  },
  {
   "cell_type": "code",
   "execution_count": 7,
   "id": "c3215f44",
   "metadata": {},
   "outputs": [],
   "source": [
    "# assume risk-free rate is 1%\n",
    "risk_free_rate = 0.01\n",
    "\n",
    "# assume market return is 10%\n",
    "market_return = 0.1"
   ]
  },
  {
   "cell_type": "code",
   "execution_count": 8,
   "id": "50ba85f0",
   "metadata": {},
   "outputs": [
    {
     "name": "stdout",
     "output_type": "stream",
     "text": [
      "Expected return: 11.11%\n"
     ]
    }
   ],
   "source": [
    "# calculate expected return using CAPM formula\n",
    "expected_return = risk_free_rate + 1.1233 * (market_return - risk_free_rate)\n",
    "\n",
    "print(f'Expected return: {expected_return:.2%}')"
   ]
  },
  {
   "cell_type": "code",
   "execution_count": null,
   "id": "a161378b",
   "metadata": {},
   "outputs": [],
   "source": []
  }
 ],
 "metadata": {
  "kernelspec": {
   "display_name": "Python 3 (ipykernel)",
   "language": "python",
   "name": "python3"
  },
  "language_info": {
   "codemirror_mode": {
    "name": "ipython",
    "version": 3
   },
   "file_extension": ".py",
   "mimetype": "text/x-python",
   "name": "python",
   "nbconvert_exporter": "python",
   "pygments_lexer": "ipython3",
   "version": "3.9.12"
  }
 },
 "nbformat": 4,
 "nbformat_minor": 5
}
